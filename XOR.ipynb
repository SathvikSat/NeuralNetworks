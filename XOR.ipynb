{
 "cells": [
  {
   "cell_type": "code",
   "execution_count": 1,
   "metadata": {},
   "outputs": [],
   "source": [
    "import numpy as np\n",
    "import matplotlib.pyplot as plt\n",
    "import sklearn\n",
    "import sklearn.linear_model\n",
    "from sklearn.neural_network import MLPClassifier\n",
    "import math\n",
    "\n",
    "%matplotlib inline\n",
    "\n"
   ]
  },
  {
   "cell_type": "code",
   "execution_count": 2,
   "metadata": {},
   "outputs": [],
   "source": [
    "def sigmoid(z):\n",
    "  \n",
    "   return 1/(1 + np.exp(-z))"
   ]
  },
  {
   "cell_type": "code",
   "execution_count": 3,
   "metadata": {},
   "outputs": [],
   "source": [
    "def relu(z):\n",
    "    return np.maximum(0,z)"
   ]
  },
  {
   "cell_type": "code",
   "execution_count": 4,
   "metadata": {},
   "outputs": [
    {
     "data": {
      "text/plain": [
       "(2, 4)"
      ]
     },
     "execution_count": 4,
     "metadata": {},
     "output_type": "execute_result"
    }
   ],
   "source": [
    "# \n",
    "X = np.array([\n",
    "              [0,0], \n",
    "              [1,0], \n",
    "              [0,1], \n",
    "              [1,1]\n",
    "             ])\n",
    "\n",
    "Y = np.array([[0], \n",
    "              [1], \n",
    "              [1], \n",
    "              [0] ])\n",
    "\n",
    "              \n",
    "X = X.reshape(X.shape[1], X.shape[0])\n",
    "np.shape(X)"
   ]
  },
  {
   "cell_type": "code",
   "execution_count": 5,
   "metadata": {},
   "outputs": [
    {
     "data": {
      "text/plain": [
       "(1, 4)"
      ]
     },
     "execution_count": 5,
     "metadata": {},
     "output_type": "execute_result"
    }
   ],
   "source": [
    "#Y = np.reshape(Y.shape[0],1)\n",
    "Y = Y.reshape(Y.shape[1], Y.shape[0])\n",
    "np.shape(Y)"
   ]
  },
  {
   "cell_type": "code",
   "execution_count": 6,
   "metadata": {},
   "outputs": [],
   "source": [
    "\n",
    "def layer_sizes(X, Y):\n",
    "    n_x = X.shape[0] #number of input units\n",
    "    n_h = 5 #number of hidden units\n",
    "    n_y = Y.shape[0] #number of output units\n",
    "\n",
    "\n",
    "    #shape_X = np.shape(X)\n",
    "    #shape_Y = np.shape(Y)\n",
    "    \n",
    "    return (n_x, n_h, n_y)"
   ]
  },
  {
   "cell_type": "code",
   "execution_count": 7,
   "metadata": {},
   "outputs": [],
   "source": [
    "#clf = sklearn.neural_network.MLPClassifier(activation='relu', max_iter=1000, hidden_layer_sizes=(4,2))\n",
    "#clf.fit(X, Y)"
   ]
  },
  {
   "cell_type": "code",
   "execution_count": 8,
   "metadata": {},
   "outputs": [],
   "source": [
    "def initialize_parameters(n_x, n_h, n_y):\n",
    "    '''\n",
    "           W1 = (n_h, n_x)\n",
    "           b1 = (n_h, 1)\n",
    "           W2 = (n_y, n_h)\n",
    "           b2 = (n_y, 1)\n",
    "    '''\n",
    "   \n",
    "    \n",
    "    W1 = np.random.randn(n_h, n_x) * 0.01\n",
    "    b1 = np.zeros(shape=(n_h, 1))\n",
    "    W2 = np.random.randn(n_y, n_h) * 0.01\n",
    "    b2 = np.zeros(shape=(n_y, 1))\n",
    "       \n",
    "    #W1 = np.random.normal(0,1, (n_h, n_x))\n",
    "    #b1 = np.random.random((n_h, 1))\n",
    "    #W2 = np.random.normal(0,1, (n_y, n_h))\n",
    "    #b2 = np.random.random((n_y, 1))\n",
    "   \n",
    "\n",
    "    parameters = {\"W1\": W1,\n",
    "                  \"b1\": b1,\n",
    "                  \"W2\": W2,\n",
    "                  \"b2\": b2}\n",
    "    \n",
    "    return parameters\n",
    "    \n",
    "    "
   ]
  },
  {
   "cell_type": "code",
   "execution_count": 53,
   "metadata": {},
   "outputs": [],
   "source": [
    "def forward_propagation(X, parameters):\n",
    "    \n",
    "    W1 = parameters[\"W1\"]\n",
    "    b1 = parameters[\"b1\"]\n",
    "    W2 = parameters[\"W2\"]\n",
    "    b2 = parameters[\"b2\"]\n",
    "    \n",
    "    #A0 = np.reshape(X.shape[0],1)\n",
    "    \n",
    "    Z1 = np.dot(W1, X) + b1    # (2,2) (2,1)  + (2,1) = (2, 1)\n",
    "    A1 = relu(Z1)           # (2,1)\n",
    "    Z2 = np.dot(W2, A1) + b2   #(1, 2) (2,1) + (1, 1) = (1, 1) \n",
    "    A2 = sigmoid(Z2)           # (1, 1)\n",
    "    \n",
    "        \n",
    "    cache = {\"Z1\": Z1,\n",
    "             \"A1\": A1,\n",
    "             \"Z2\": Z2,\n",
    "             \"A2\": A2}\n",
    "    assert(A2.shape == (1, X.shape[1]))\n",
    "    \n",
    "    return A2, cache"
   ]
  },
  {
   "cell_type": "code",
   "execution_count": 54,
   "metadata": {},
   "outputs": [],
   "source": [
    "def compute_cost(A2, Y, parameters):\n",
    "    m = Y.shape[1]\n",
    "    logprobs = (np.multiply(np.log(A2), Y) + (np.multiply((1 - Y) , np.log(1-A2))))\n",
    "    cost = -1/m * np.sum(logprobs)\n",
    "    cost = np.squeeze(cost)\n",
    "    \n",
    "    cost = float(np.squeeze(cost))  \n",
    "    assert(isinstance(cost, float))\n",
    "    \n",
    "    return cost\n",
    "    "
   ]
  },
  {
   "cell_type": "code",
   "execution_count": 62,
   "metadata": {},
   "outputs": [],
   "source": [
    "def backward_propagation(parameters, cache, X, Y):\n",
    "    m = Y.shape[1]\n",
    "    W1 = parameters[\"W1\"]\n",
    "    W2 = parameters[\"W2\"]\n",
    "\n",
    "    A1 = cache[\"A1\"]\n",
    "    A2 = cache[\"A2\"]\n",
    "    \n",
    "    dZ2 = A2 - Y\n",
    "    dW2 = 1/m * np.dot(dZ2, A1.T)\n",
    "    db2 = 1/m * np.sum(dZ2, axis = 1, keepdims=True)\n",
    "   # dZ1 = np.dot(W2.T, dZ2) * (1 - np.power(A1,2))\n",
    "    \n",
    "    dZ1 = np.dot(W2.T, dZ2) * np.maximum(0,A1) #A1\n",
    "    dW1 = 1/m * np.dot(dZ1, X.T)\n",
    "    db1 = 1/m * np.sum(dZ1, axis = 1, keepdims=True)\n",
    "    \n",
    "    \n",
    "    grads = {\"dW1\": dW1,\n",
    "             \"db1\": db1,\n",
    "             \"dW2\": dW2,\n",
    "             \"db2\": db2}\n",
    "    \n",
    "    return grads"
   ]
  },
  {
   "cell_type": "code",
   "execution_count": 63,
   "metadata": {},
   "outputs": [],
   "source": [
    "def update_parameters(parameters, grads, learning_rate = 0.5):\n",
    "    \n",
    "    W1 = parameters[\"W1\"]\n",
    "    b1 = parameters[\"b1\"]\n",
    "    W2 = parameters[\"W2\"]\n",
    "    b2 = parameters[\"b2\"]\n",
    "    \n",
    "    dW1 = grads[\"dW1\"]\n",
    "    db1 = grads[\"db1\"]\n",
    "    dW2 = grads[\"dW2\"]\n",
    "    db2 = grads[\"db2\"]\n",
    "    \n",
    "    W1 = W1 - (learning_rate * dW1)\n",
    "    b1 = b1 - (learning_rate * db1)\n",
    "    W2 = W2 - (learning_rate * dW2)\n",
    "    b2 = b2 - (learning_rate * db2)\n",
    "    \n",
    "    parameters = {\"W1\": W1,\n",
    "                  \"b1\": b1,\n",
    "                  \"W2\": W2,\n",
    "                  \"b2\": b2}\n",
    "    \n",
    "    return parameters"
   ]
  },
  {
   "cell_type": "code",
   "execution_count": 64,
   "metadata": {},
   "outputs": [],
   "source": [
    "\n",
    "def nn_model(X, Y, n_h, num_iterations = 10000, print_cost=False):\n",
    "  \n",
    "    \n",
    "   \n",
    "    cost_arr = []\n",
    "    n_x = layer_sizes(X, Y)[0]\n",
    "    n_y = layer_sizes(X, Y)[2]\n",
    "    #n_x = \n",
    "    #n_y = \n",
    "  \n",
    "    parameters = initialize_parameters(n_x, n_h, n_y)\n",
    "   \n",
    "\n",
    "    for i in range(0, num_iterations):\n",
    "         \n",
    "       \n",
    "        A2, cache = forward_propagation(X, parameters)\n",
    "        \n",
    "        cost = compute_cost(A2, Y, parameters)\n",
    " \n",
    "        grads = backward_propagation(parameters, cache, X, Y)\n",
    "\n",
    "        parameters = update_parameters(parameters, grads)\n",
    "        \n",
    "        if print_cost and i % 1000 == 0:\n",
    "            print (\"Cost after iteration %i: %f\" %(i, cost))\n",
    "            cost_arr.append(cost)\n",
    "   \n",
    "    return parameters"
   ]
  },
  {
   "cell_type": "code",
   "execution_count": 65,
   "metadata": {},
   "outputs": [],
   "source": [
    "\n",
    "def predict(parameters, X):\n",
    "   \n",
    "    A2, cache = forward_propagation(X, parameters)\n",
    "    predictions = np.round(A2)\n",
    " \n",
    "  \n",
    "    return predictions"
   ]
  },
  {
   "cell_type": "code",
   "execution_count": 66,
   "metadata": {},
   "outputs": [
    {
     "name": "stdout",
     "output_type": "stream",
     "text": [
      "Cost after iteration 0: 0.693140\n",
      "Cost after iteration 1000: 0.349590\n",
      "Cost after iteration 2000: 0.349201\n",
      "Cost after iteration 3000: 0.349826\n",
      "Cost after iteration 4000: 0.350966\n",
      "Cost after iteration 5000: 0.351564\n",
      "Cost after iteration 6000: 0.352029\n",
      "Cost after iteration 7000: 0.352496\n",
      "Cost after iteration 8000: 0.352900\n",
      "Cost after iteration 9000: 0.353071\n",
      "W1 = [[ 5.16958944e-02  3.34439748e-01]\n",
      " [ 7.26872778e-03 -9.41225338e-03]\n",
      " [ 6.56541463e+00  2.54541969e+00]\n",
      " [-4.34909069e-03 -7.70298457e-03]\n",
      " [-3.31077559e-03 -1.69411915e-03]]\n",
      "b1 = [[ 0.18108625]\n",
      " [ 0.        ]\n",
      " [-1.00537306]\n",
      " [ 0.        ]\n",
      " [ 0.        ]]\n",
      "W2 = [[ 0.65864937 -0.00563728  3.12976235  0.00466727 -0.01061634]]\n",
      "b2 = [[-4.90379565]]\n"
     ]
    }
   ],
   "source": [
    "parameters = nn_model(X, Y, n_h = 5, num_iterations = 10000, print_cost=True)\n",
    "\n",
    "print(\"W1 = \" + str(parameters[\"W1\"]))\n",
    "print(\"b1 = \" + str(parameters[\"b1\"]))\n",
    "print(\"W2 = \" + str(parameters[\"W2\"]))\n",
    "print(\"b2 = \" + str(parameters[\"b2\"]))\n"
   ]
  },
  {
   "cell_type": "code",
   "execution_count": 67,
   "metadata": {},
   "outputs": [
    {
     "name": "stdout",
     "output_type": "stream",
     "text": [
      "Accuracy: 75%\n"
     ]
    }
   ],
   "source": [
    "predictions = predict(parameters, X)\n",
    "print ('Accuracy: %d' % float((np.dot(Y,predictions.T) + np.dot(1-Y,1-predictions.T))/float(Y.size)*100) + '%')"
   ]
  },
  {
   "cell_type": "code",
   "execution_count": 61,
   "metadata": {},
   "outputs": [
    {
     "name": "stdout",
     "output_type": "stream",
     "text": [
      "predictions mean = 0.25\n"
     ]
    }
   ],
   "source": [
    "predictions = predict(parameters, X)\n",
    "print(\"predictions mean = \" + str(np.mean(predictions)))"
   ]
  },
  {
   "cell_type": "code",
   "execution_count": 52,
   "metadata": {},
   "outputs": [],
   "source": [
    "#cost = [ 0.353248, 0.350860, 0.349934,0.349417,0.349080,0.348838,0.348654,0.348508,0.348389, 0.348389]\n",
    "#plt.plot(range(10), cost)\n",
    "#plt.show()\n"
   ]
  },
  {
   "cell_type": "code",
   "execution_count": 68,
   "metadata": {},
   "outputs": [
    {
     "name": "stdout",
     "output_type": "stream",
     "text": [
      "Accuracy for 1 hidden units: 50.0 %\n",
      "Accuracy for 2 hidden units: 75.0 %\n",
      "Accuracy for 3 hidden units: 75.0 %\n",
      "Accuracy for 4 hidden units: 75.0 %\n",
      "Accuracy for 5 hidden units: 75.0 %\n",
      "Accuracy for 20 hidden units: 75.0 %\n",
      "Accuracy for 50 hidden units: 75.0 %\n"
     ]
    }
   ],
   "source": [
    "\n",
    "#plt.figure(figsize=(16, 32))\n",
    "hidden_layer_sizes = [1, 2, 3, 4, 5, 20, 50]\n",
    "for i, n_h in enumerate(hidden_layer_sizes):\n",
    "  #  plt.subplot(5, 2, i+1)\n",
    "   # plt.title('Hidden Layer of size %d' % n_h)\n",
    "    parameters = nn_model(X, Y, n_h, num_iterations = 5000)\n",
    "   # plot_decision_boundary(lambda x: predict(parameters, x.T), X, Y)\n",
    "    predictions = predict(parameters, X)\n",
    "    accuracy = float((np.dot(Y,predictions.T) + np.dot(1-Y,1-predictions.T))/float(Y.size)*100)\n",
    "    print (\"Accuracy for {} hidden units: {} %\".format(n_h, accuracy))"
   ]
  },
  {
   "cell_type": "code",
   "execution_count": 69,
   "metadata": {},
   "outputs": [],
   "source": []
  },
  {
   "cell_type": "code",
   "execution_count": 70,
   "metadata": {},
   "outputs": [],
   "source": []
  },
  {
   "cell_type": "code",
   "execution_count": null,
   "metadata": {},
   "outputs": [],
   "source": []
  },
  {
   "cell_type": "code",
   "execution_count": null,
   "metadata": {},
   "outputs": [],
   "source": []
  },
  {
   "cell_type": "code",
   "execution_count": null,
   "metadata": {},
   "outputs": [],
   "source": [
    "\n"
   ]
  },
  {
   "cell_type": "code",
   "execution_count": null,
   "metadata": {},
   "outputs": [],
   "source": []
  }
 ],
 "metadata": {
  "kernelspec": {
   "display_name": "Python 3.6.10 64-bit ('anaconda3': virtualenv)",
   "language": "python",
   "name": "python361064bitanaconda3virtualenv80664a24c6674819b1052acf2c947047"
  },
  "language_info": {
   "codemirror_mode": {
    "name": "ipython",
    "version": 3
   },
   "file_extension": ".py",
   "mimetype": "text/x-python",
   "name": "python",
   "nbconvert_exporter": "python",
   "pygments_lexer": "ipython3",
   "version": "3.6.10"
  }
 },
 "nbformat": 4,
 "nbformat_minor": 4
}
